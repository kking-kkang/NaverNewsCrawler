{
 "cells": [
  {
   "metadata": {},
   "cell_type": "markdown",
   "source": [
    "1.네이버에서 \"코스피\"라는 키워드를 입력\n",
    "<input id=\"query\" name=\"query\" type=\"search\" title=\"검색어를 입력해 주세요.\" placeholder=\"검색어를 입력해 주세요.\" maxlength=\"255\" autocomplete=\"off\" class=\"search_input\" data-atcmp-element=\"\">\n",
    "\n",
    "2.검색버튼 클릭\n",
    "<button type=\"submit\" class=\"btn_search\" onclick=\"window.ntm.push({event:&quot;nclick&quot;,el:this,click_area:&quot;sch.action&quot;})\"> <span class=\"ico_btn_search_svg\"> <svg id=\"search-btn\" viewBox=\"0 0 50 50\" xmlns=\"http://www.w3.org/2000/svg\" style=\"fill: #03c75a\">  </svg> </span> <span class=\"blind\">검색</span> </button>\n",
    "\n",
    "3.뉴스탭 클릭\n",
    "<a role=\"tab\" href=\"?ssc=tab.news.all&amp;where=news&amp;sm=tab_jum&amp;query=%EC%BD%94%EC%8A%A4%ED%94%BC\" onclick=\"return goOtherCR(this,'a=tab*n.jmp&amp;r=8&amp;i=&amp;u='+urlencode(this.href));\" class=\"tab\" aria-selected=\"false\"><i class=\"spnew2 ico_nav_news\"></i>뉴스</a>\n",
    "\n",
    "4.옵션버튼 활성화\n",
    "<a href=\"javascript:;\" role=\"button\" aria-expanded=\"false\" aria-haspopup=\"listbox\" class=\"btn_option _search_option_open_btn\" aria-label=\"검색옵션 열기\" onclick=\"tCR('a=opt.unfd');\">옵션<i class=\"spnew ico_filter_arr\"></i></a>\n",
    "\n",
    "5.기간 직접입력 활성화\n",
    "<a href=\"#\" role=\"tab\" class=\"txt txt_option _calendar_select_trigger \" data-select-trigger=\"\" aria-selected=\"false\" onclick=\"tCR('a=opt.cal');\">직접입력<i class=\"spnew ico_check\">옵션<em class=\"open\">펼치기</em><em class=\"close\">접기</em></i></a>\n",
    "\n",
    "6.시작일 설정(20160101)\n",
    "<a href=\"#\" role=\"tab\" class=\"spnew_bf ico_calendar _start_trigger selected\" aria-selected=\"true\" onclick=\"tCR('a=opt.str');\">2025.04.02.</a>\n",
    "\n",
    "7.종료일 설정(20160131)\n",
    "<a href=\"#\" role=\"tab\" class=\"spnew_bf ico_calendar _end_trigger\" onclick=\"tCR('a=opt.fin');\" aria-selected=\"true\">2025.04.02.</a>\n",
    "\n",
    "8.기간적용버튼 클릭\n",
    "<button type=\"button\" class=\"btn_apply _apply_btn\">적용</button>\n",
    "\n",
    "9.네이버뉴스라는 a태그가 있는 기사들만 제목이랑 URL 수집하기\n",
    "<a href=\"https://n.news.naver.com/mnews/article/001/0015305069?sid=101\" class=\"info\" target=\"_blank\" onclick=\"return goOtherCR(this, 'a=nws*a.nav&amp;r=1&amp;i=880000D8_000000000000000015305069&amp;u='+urlencode(this.href));\">네이버뉴스</a>"
   ],
   "id": "a8d433f108a1d10f"
  },
  {
   "metadata": {
    "collapsed": true,
    "ExecuteTime": {
     "end_time": "2025-04-03T06:34:03.303633Z",
     "start_time": "2025-04-03T06:34:03.290665Z"
    }
   },
   "cell_type": "code",
   "source": [
    "from selenium import webdriver\n",
    "from selenium.webdriver.common.by import By\n",
    "import pandas as pd\n",
    "import time"
   ],
   "id": "initial_id",
   "outputs": [],
   "execution_count": 11
  },
  {
   "metadata": {
    "ExecuteTime": {
     "end_time": "2025-04-03T06:34:03.993794Z",
     "start_time": "2025-04-03T06:34:03.981826Z"
    }
   },
   "cell_type": "code",
   "source": [
    "# 날짜 선택 함수\n",
    "def select_dropdown_date(driver, year: str, month: str, day: str, is_start=True):\n",
    "    trigger_class = \"_start_trigger\" if is_start else \"_end_trigger\"\n",
    "    driver.find_element(By.CLASS_NAME, trigger_class).click()\n",
    "    time.sleep(0.5)\n",
    "\n",
    "    # 연도 선택\n",
    "    year_xpath = f'//strong[text()=\"년(Year)\"]/following-sibling::div//li[@data-value=\"{year}\"]/a'\n",
    "    driver.find_element(By.XPATH, year_xpath).click()\n",
    "    time.sleep(0.2)\n",
    "\n",
    "    # 월 선택\n",
    "    month_xpath = f'//strong[text()=\"월(Month)\"]/following-sibling::div//li[@data-value=\"{int(month)}\"]/a'\n",
    "    driver.find_element(By.XPATH, month_xpath).click()\n",
    "    time.sleep(0.2)\n",
    "\n",
    "    # 일 선택\n",
    "    day_xpath = f'//strong[text()=\"일(Day)\"]/following-sibling::div//li[@data-value=\"{int(day)}\"]/a'\n",
    "    driver.find_element(By.XPATH, day_xpath).click()\n",
    "    time.sleep(0.5)"
   ],
   "id": "163ecb80d1071e8a",
   "outputs": [],
   "execution_count": 12
  },
  {
   "metadata": {
    "ExecuteTime": {
     "end_time": "2025-04-03T06:48:45.817570Z",
     "start_time": "2025-04-03T06:48:45.805603Z"
    }
   },
   "cell_type": "code",
   "source": [
    "keyword = \"코스피\"\n",
    "start_date = (\"2016\", \"2\", \"1\")\n",
    "end_date = (\"2016\", \"2\", \"28\")"
   ],
   "id": "4ed309b157220030",
   "outputs": [],
   "execution_count": 18
  },
  {
   "metadata": {
    "ExecuteTime": {
     "end_time": "2025-04-03T06:57:21.549982Z",
     "start_time": "2025-04-03T06:50:12.209052Z"
    }
   },
   "cell_type": "code",
   "source": [
    "# 크롬 옵션 설정\n",
    "options = webdriver.ChromeOptions()\n",
    "options.add_argument(\"--start-maximized\")\n",
    "# options.add_argument(\"--headless\")\n",
    "driver = webdriver.Chrome(options=options)\n",
    "\n",
    "\n",
    "driver.get(\"https://www.naver.com\")\n",
    "time.sleep(1)\n",
    "\n",
    "# 검색창에 입력\n",
    "driver.find_element(By.ID, \"query\").send_keys(keyword)\n",
    "driver.find_element(By.CLASS_NAME, \"btn_search\").click()\n",
    "time.sleep(2)\n",
    "\n",
    "# 뉴스 탭 클릭\n",
    "driver.find_element(By.XPATH, '//a[contains(@href, \"where=news\") and contains(@class, \"tab\")]').click()\n",
    "time.sleep(2)\n",
    "\n",
    "# 옵션 열기\n",
    "driver.find_element(By.CLASS_NAME, \"_search_option_open_btn\").click()\n",
    "time.sleep(1)\n",
    "\n",
    "# 직접입력 선택\n",
    "driver.find_element(By.CLASS_NAME, \"_calendar_select_trigger\").click()\n",
    "time.sleep(1)\n",
    "\n",
    "# 날짜 입력\n",
    "select_dropdown_date(driver, *start_date, is_start=True)\n",
    "select_dropdown_date(driver, *end_date, is_start=False)\n",
    "\n",
    "# 적용 클릭\n",
    "driver.find_element(By.CLASS_NAME, \"_apply_btn\").click()\n",
    "time.sleep(2)\n",
    "\n",
    "# 스크롤 다운\n",
    "last_height = driver.execute_script(\"return document.body.scrollHeight\")\n",
    "while True:\n",
    "    driver.execute_script(\"window.scrollTo(0, document.body.scrollHeight);\")\n",
    "    time.sleep(3)\n",
    "    new_height = driver.execute_script(\"return document.body.scrollHeight\")\n",
    "    if new_height == last_height:\n",
    "        break\n",
    "    last_height = new_height\n",
    "\n",
    "# 네이버뉴스만 수집\n",
    "results = []\n",
    "naver_links = driver.find_elements(By.XPATH, '//a[text()=\"네이버뉴스\"]')\n",
    "\n",
    "for link in naver_links:\n",
    "    try:\n",
    "        article_block = link.find_element(By.XPATH, \"../../..\")\n",
    "        title_tag = article_block.find_element(By.CSS_SELECTOR, \"a.news_tit\")\n",
    "        title = title_tag.text\n",
    "        url = link.get_attribute(\"href\")\n",
    "        # 날짜 추출\n",
    "        date_span = article_block.find_element(By.CSS_SELECTOR, \"span.info\")\n",
    "        date = date_span.text\n",
    "        results.append({\"title\": title, \"url\": url, \"date\": date})\n",
    "    except Exception as e:\n",
    "        continue\n",
    "\n",
    "# # 출력\n",
    "# for r in results:\n",
    "#     print(f\"[제목] {r['title']}\\n[URL] {r['url']}\\n\")\n",
    "\n",
    "df = pd.DataFrame(results)\n",
    "df.to_csv(\"../data/코스피_201602.csv\", index=False, encoding='utf-8-sig')\n",
    "print(\"CSV 파일로 저장 완료\")\n",
    "\n",
    "driver.quit()"
   ],
   "id": "b01150d7ff382caf",
   "outputs": [
    {
     "name": "stdout",
     "output_type": "stream",
     "text": [
      "CSV 파일로 저장 완료\n"
     ]
    }
   ],
   "execution_count": 20
  },
  {
   "metadata": {},
   "cell_type": "code",
   "outputs": [],
   "execution_count": null,
   "source": "",
   "id": "3cd6aba6b1159ea5"
  }
 ],
 "metadata": {
  "kernelspec": {
   "display_name": "Python 3",
   "language": "python",
   "name": "python3"
  },
  "language_info": {
   "codemirror_mode": {
    "name": "ipython",
    "version": 2
   },
   "file_extension": ".py",
   "mimetype": "text/x-python",
   "name": "python",
   "nbconvert_exporter": "python",
   "pygments_lexer": "ipython2",
   "version": "2.7.6"
  }
 },
 "nbformat": 4,
 "nbformat_minor": 5
}
